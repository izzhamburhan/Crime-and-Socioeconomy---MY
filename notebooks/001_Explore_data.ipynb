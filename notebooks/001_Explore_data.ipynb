{
 "cells": [
  {
   "cell_type": "code",
   "execution_count": 3,
   "metadata": {},
   "outputs": [
    {
     "name": "stderr",
     "output_type": "stream",
     "text": [
      "Matplotlib is building the font cache; this may take a moment.\n"
     ]
    }
   ],
   "source": [
    "import pandas as pd\n",
    "import matplotlib.pyplot as plt\n",
    "import seaborn as sns\n",
    "import numpy as np"
   ]
  },
  {
   "cell_type": "code",
   "execution_count": 8,
   "metadata": {},
   "outputs": [],
   "source": [
    "def load_data():\n",
    "    crime_df = pd.read_csv('../data/crime_district.csv')\n",
    "    income_df = pd.read_csv('../data/hh_income_state.csv')\n",
    "    poverty_df = pd.read_csv('../data/hh_poverty_state.csv')\n",
    "    labor_df = pd.read_csv('../data/lfs_state_sex.csv')\n",
    "\n",
    "    for df in [crime_df, income_df, poverty_df, labor_df]:\n",
    "        df['date'] = pd.to_datetime(df['date'])\n",
    "        df['year'] = df['date'].dt.year\n",
    "    \n",
    "    return crime_df, income_df, poverty_df, labor_df\n"
   ]
  },
  {
   "cell_type": "code",
   "execution_count": 9,
   "metadata": {},
   "outputs": [
    {
     "data": {
      "text/plain": [
       "(                   state     district  category                      type  \\\n",
       " 0               Malaysia          All   assault                       all   \n",
       " 1               Malaysia          All   assault                       all   \n",
       " 2               Malaysia          All   assault                       all   \n",
       " 3               Malaysia          All   assault                       all   \n",
       " 4               Malaysia          All   assault                       all   \n",
       " ...                  ...          ...       ...                       ...   \n",
       " 19147  W.P. Kuala Lumpur  Wangsa Maju  property  theft_vehicle_motorcycle   \n",
       " 19148  W.P. Kuala Lumpur  Wangsa Maju  property  theft_vehicle_motorcycle   \n",
       " 19149  W.P. Kuala Lumpur  Wangsa Maju  property  theft_vehicle_motorcycle   \n",
       " 19150  W.P. Kuala Lumpur  Wangsa Maju  property  theft_vehicle_motorcycle   \n",
       " 19151  W.P. Kuala Lumpur  Wangsa Maju  property  theft_vehicle_motorcycle   \n",
       " \n",
       "             date  crimes  year  \n",
       " 0     2016-01-01   22327  2016  \n",
       " 1     2017-01-01   21366  2017  \n",
       " 2     2018-01-01   16902  2018  \n",
       " 3     2019-01-01   16489  2019  \n",
       " 4     2020-01-01   13279  2020  \n",
       " ...          ...     ...   ...  \n",
       " 19147 2019-01-01     755  2019  \n",
       " 19148 2020-01-01     646  2020  \n",
       " 19149 2021-01-01     403  2021  \n",
       " 19150 2022-01-01     369  2022  \n",
       " 19151 2023-01-01     358  2023  \n",
       " \n",
       " [19152 rows x 7 columns],\n",
       "               state       date  income_mean  income_median  year\n",
       " 0             Johor 1970-01-01          237            NaN  1970\n",
       " 1             Johor 1974-01-01          382          269.0  1974\n",
       " 2             Johor 1976-01-01          513          370.0  1976\n",
       " 3             Johor 1979-01-01          731          518.0  1979\n",
       " 4             Johor 1984-01-01         1065          793.0  1984\n",
       " ..              ...        ...          ...            ...   ...\n",
       " 298  W.P. Putrajaya 2014-01-01        10401         7512.0  2014\n",
       " 299  W.P. Putrajaya 2016-01-01        11555         8275.0  2016\n",
       " 300  W.P. Putrajaya 2019-01-01        12840         9983.0  2019\n",
       " 301  W.P. Putrajaya 2020-01-01        12322         9743.0  2020\n",
       " 302  W.P. Putrajaya 2022-01-01        13473        10056.0  2022\n",
       " \n",
       " [303 rows x 5 columns],\n",
       "               state       date  poverty_absolute  poverty_hardcore  \\\n",
       " 0             Johor 1970-01-01              45.7               NaN   \n",
       " 1             Johor 1976-01-01              29.0               NaN   \n",
       " 2             Johor 1979-01-01              18.2               NaN   \n",
       " 3             Johor 1984-01-01              12.2               3.1   \n",
       " 4             Johor 1987-01-01              11.1               2.6   \n",
       " ..              ...        ...               ...               ...   \n",
       " 289  W.P. Putrajaya 2014-01-01               0.0               0.0   \n",
       " 290  W.P. Putrajaya 2016-01-01               0.0               0.0   \n",
       " 291  W.P. Putrajaya 2019-01-01               0.4               0.0   \n",
       " 292  W.P. Putrajaya 2020-01-01               0.2               0.0   \n",
       " 293  W.P. Putrajaya 2022-01-01               0.1               0.0   \n",
       " \n",
       "      poverty_relative  year  \n",
       " 0                 NaN  1970  \n",
       " 1                 NaN  1976  \n",
       " 2                 NaN  1979  \n",
       " 3                 NaN  1984  \n",
       " 4                 NaN  1987  \n",
       " ..                ...   ...  \n",
       " 289               7.9  2014  \n",
       " 290               6.8  2016  \n",
       " 291              12.1  2019  \n",
       " 292              11.2  2020  \n",
       " 293              11.4  2022  \n",
       " \n",
       " [294 rows x 6 columns],\n",
       "                state   sex       date     lf  lf_employed  lf_unemployed  \\\n",
       " 0              Johor  both 1982-01-01  653.1        630.2           22.9   \n",
       " 1              Johor  both 1983-01-01  650.9        623.7           27.2   \n",
       " 2              Johor  both 1984-01-01  688.2        657.3           30.9   \n",
       " 3              Johor  both 1985-01-01  710.4        672.7           37.6   \n",
       " 4              Johor  both 1986-01-01  751.2        700.4           50.8   \n",
       " ...              ...   ...        ...    ...          ...            ...   \n",
       " 1727  W.P. Putrajaya  male 2017-01-01   17.7         17.4            0.3   \n",
       " 1728  W.P. Putrajaya  male 2018-01-01   17.6         17.3            0.3   \n",
       " 1729  W.P. Putrajaya  male 2019-01-01   17.9         17.8            0.1   \n",
       " 1730  W.P. Putrajaya  male 2020-01-01   16.7         16.5            0.2   \n",
       " 1731  W.P. Putrajaya  male 2021-01-01   16.4         16.2            0.2   \n",
       " \n",
       "       lf_outside  p_rate  u_rate  ep_ratio  year  \n",
       " 0          345.1    65.4     3.5      63.4  1982  \n",
       " 1          344.1    65.4     4.2      60.5  1983  \n",
       " 2          372.1    64.9     4.5      61.7  1984  \n",
       " 3          354.7    66.7     5.3      61.2  1985  \n",
       " 4          367.8    67.1     6.8      61.7  1986  \n",
       " ...          ...     ...     ...       ...   ...  \n",
       " 1727         4.4    80.1     1.8      74.4  2017  \n",
       " 1728         4.9    78.3     1.8      64.6  2018  \n",
       " 1729         4.7    79.2     0.6      62.0  2019  \n",
       " 1730         5.8    74.2     1.1      52.4  2020  \n",
       " 1731         5.8    74.0     1.0      48.1  2021  \n",
       " \n",
       " [1732 rows x 11 columns])"
      ]
     },
     "execution_count": 9,
     "metadata": {},
     "output_type": "execute_result"
    }
   ],
   "source": [
    "load_data()"
   ]
  },
  {
   "cell_type": "code",
   "execution_count": 12,
   "metadata": {},
   "outputs": [],
   "source": [
    "crime_df = pd.read_csv('../data/crime_district.csv')\n",
    "income_df = pd.read_csv('../data/hh_income_state.csv')\n",
    "poverty_df = pd.read_csv('../data/hh_poverty_state.csv')\n",
    "labor_df = pd.read_csv('../data/lfs_state_sex.csv')\n"
   ]
  },
  {
   "cell_type": "code",
   "execution_count": 16,
   "metadata": {},
   "outputs": [
    {
     "data": {
      "text/html": [
       "<div>\n",
       "<style scoped>\n",
       "    .dataframe tbody tr th:only-of-type {\n",
       "        vertical-align: middle;\n",
       "    }\n",
       "\n",
       "    .dataframe tbody tr th {\n",
       "        vertical-align: top;\n",
       "    }\n",
       "\n",
       "    .dataframe thead th {\n",
       "        text-align: right;\n",
       "    }\n",
       "</style>\n",
       "<table border=\"1\" class=\"dataframe\">\n",
       "  <thead>\n",
       "    <tr style=\"text-align: right;\">\n",
       "      <th></th>\n",
       "      <th>state</th>\n",
       "      <th>district</th>\n",
       "      <th>category</th>\n",
       "      <th>type</th>\n",
       "      <th>date</th>\n",
       "      <th>crimes</th>\n",
       "      <th>year</th>\n",
       "    </tr>\n",
       "  </thead>\n",
       "  <tbody>\n",
       "    <tr>\n",
       "      <th>0</th>\n",
       "      <td>Malaysia</td>\n",
       "      <td>All</td>\n",
       "      <td>assault</td>\n",
       "      <td>all</td>\n",
       "      <td>2016-01-01</td>\n",
       "      <td>22327</td>\n",
       "      <td>2016</td>\n",
       "    </tr>\n",
       "    <tr>\n",
       "      <th>1</th>\n",
       "      <td>Malaysia</td>\n",
       "      <td>All</td>\n",
       "      <td>assault</td>\n",
       "      <td>all</td>\n",
       "      <td>2017-01-01</td>\n",
       "      <td>21366</td>\n",
       "      <td>2017</td>\n",
       "    </tr>\n",
       "    <tr>\n",
       "      <th>2</th>\n",
       "      <td>Malaysia</td>\n",
       "      <td>All</td>\n",
       "      <td>assault</td>\n",
       "      <td>all</td>\n",
       "      <td>2018-01-01</td>\n",
       "      <td>16902</td>\n",
       "      <td>2018</td>\n",
       "    </tr>\n",
       "    <tr>\n",
       "      <th>3</th>\n",
       "      <td>Malaysia</td>\n",
       "      <td>All</td>\n",
       "      <td>assault</td>\n",
       "      <td>all</td>\n",
       "      <td>2019-01-01</td>\n",
       "      <td>16489</td>\n",
       "      <td>2019</td>\n",
       "    </tr>\n",
       "    <tr>\n",
       "      <th>4</th>\n",
       "      <td>Malaysia</td>\n",
       "      <td>All</td>\n",
       "      <td>assault</td>\n",
       "      <td>all</td>\n",
       "      <td>2020-01-01</td>\n",
       "      <td>13279</td>\n",
       "      <td>2020</td>\n",
       "    </tr>\n",
       "  </tbody>\n",
       "</table>\n",
       "</div>"
      ],
      "text/plain": [
       "      state district category type       date  crimes  year\n",
       "0  Malaysia      All  assault  all 2016-01-01   22327  2016\n",
       "1  Malaysia      All  assault  all 2017-01-01   21366  2017\n",
       "2  Malaysia      All  assault  all 2018-01-01   16902  2018\n",
       "3  Malaysia      All  assault  all 2019-01-01   16489  2019\n",
       "4  Malaysia      All  assault  all 2020-01-01   13279  2020"
      ]
     },
     "execution_count": 16,
     "metadata": {},
     "output_type": "execute_result"
    }
   ],
   "source": [
    "\n",
    "crime_df[\"date\"] = pd.to_datetime(crime_df[\"date\"])\n",
    "crime_df[\"year\"] = crime_df[\"date\"].dt.year\n",
    "crime_df.head()"
   ]
  },
  {
   "cell_type": "code",
   "execution_count": 17,
   "metadata": {},
   "outputs": [
    {
     "name": "stdout",
     "output_type": "stream",
     "text": [
      "Data Overview:\n",
      "      state district category type       date  crimes  year\n",
      "0  Malaysia      All  assault  all 2016-01-01   22327  2016\n",
      "1  Malaysia      All  assault  all 2017-01-01   21366  2017\n",
      "2  Malaysia      All  assault  all 2018-01-01   16902  2018\n",
      "3  Malaysia      All  assault  all 2019-01-01   16489  2019\n",
      "4  Malaysia      All  assault  all 2020-01-01   13279  2020\n",
      "\n",
      "Data Information:\n",
      "<class 'pandas.core.frame.DataFrame'>\n",
      "RangeIndex: 19152 entries, 0 to 19151\n",
      "Data columns (total 7 columns):\n",
      " #   Column    Non-Null Count  Dtype         \n",
      "---  ------    --------------  -----         \n",
      " 0   state     19152 non-null  object        \n",
      " 1   district  19152 non-null  object        \n",
      " 2   category  19152 non-null  object        \n",
      " 3   type      19152 non-null  object        \n",
      " 4   date      19152 non-null  datetime64[ns]\n",
      " 5   crimes    19152 non-null  int64         \n",
      " 6   year      19152 non-null  int32         \n",
      "dtypes: datetime64[ns](1), int32(1), int64(1), object(4)\n",
      "memory usage: 972.7+ KB\n",
      "None\n",
      "\n",
      "Summary Statistics:\n",
      "                      date        crimes          year\n",
      "count                19152  19152.000000  19152.000000\n",
      "mean   2019-07-02 18:00:00    189.728018   2019.500000\n",
      "min    2016-01-01 00:00:00      0.000000   2016.000000\n",
      "25%    2017-10-01 18:00:00      1.000000   2017.750000\n",
      "50%    2019-07-02 12:00:00     12.000000   2019.500000\n",
      "75%    2021-04-02 06:00:00     66.000000   2021.250000\n",
      "max    2023-01-01 00:00:00  90028.000000   2023.000000\n",
      "std                    NaN   1590.813293      2.291348\n"
     ]
    }
   ],
   "source": [
    "print(\"Data Overview:\")\n",
    "print(crime_df.head())\n",
    "print(\"\\nData Information:\")\n",
    "print(crime_df.info())\n",
    "print(\"\\nSummary Statistics:\")\n",
    "print(crime_df.describe())"
   ]
  },
  {
   "cell_type": "markdown",
   "metadata": {},
   "source": [
    "Analyze trends in assault crimes over time"
   ]
  },
  {
   "cell_type": "code",
   "execution_count": 36,
   "metadata": {},
   "outputs": [
    {
     "data": {
      "image/png": "[encoded data removed]",
      "text/plain": [
       "<Figure size 1200x600 with 1 Axes>"
      ]
     },
     "metadata": {},
     "output_type": "display_data"
    }
   ],
   "source": [
    "assault_trend = crime_df[(crime_df[\"state\"] == \"Malaysia\") & (crime_df[\"category\"] == \"assault\") & (crime_df[\"type\"] == \"all\")]\n",
    "\n",
    "\n",
    "plt.figure(figsize=(12, 6))\n",
    "plt.plot(assault_trend[\"year\"], assault_trend[\"crimes\"], marker='o', linewidth=2)\n",
    "plt.title(\"Assault Crimes in Malaysia (2016-2023)\")\n",
    "plt.xlabel(\"Year\")\n",
    "plt.ylabel(\"Number of Crimes\")\n",
    "plt.grid(True, alpha=0.3)\n",
    "plt.tight_layout()\n",
    "plt.show()"
   ]
  },
  {
   "cell_type": "markdown",
   "metadata": {},
   "source": [
    "Compare assault vs causing_injury trends"
   ]
  },
  {
   "cell_type": "code",
   "execution_count": 20,
   "metadata": {},
   "outputs": [],
   "source": [
    "assault_by_type = crime_df[(crime_df[\"state\"] == \"Malaysia\") & (crime_df[\"category\"] == \"assault\")].pivot_table(\n",
    "    index=\"year\", columns=\"type\", values=\"crimes\", aggfunc=\"sum\"\n",
    ")"
   ]
  },
  {
   "cell_type": "code",
   "execution_count": 21,
   "metadata": {},
   "outputs": [
    {
     "data": {
      "text/plain": [
       "<Figure size 1200x600 with 0 Axes>"
      ]
     },
     "metadata": {},
     "output_type": "display_data"
    }
   ],
   "source": [
    "if not assault_by_type.empty and \"causing_injury\" in assault_by_type.columns:\n",
    "    plt.figure(figsize=(12, 6))\n",
    "    assault_by_type.plot(kind=\"bar\", figsize=(12, 6))\n",
    "    plt.title(\"Assault Crimes by Type in Malaysia\")\n",
    "    plt.xlabel(\"Year\")\n",
    "    plt.ylabel(\"Number of Crimes\")\n",
    "    plt.grid(True, alpha=0.3)\n",
    "    plt.tight_layout()\n",
    "    plt.savefig(\"assault_by_type.png\")\n",
    "    plt.close()"
   ]
  },
  {
   "cell_type": "markdown",
   "metadata": {},
   "source": [
    "Analyze state distribution for a specific year"
   ]
  },
  {
   "cell_type": "code",
   "execution_count": 22,
   "metadata": {},
   "outputs": [],
   "source": [
    "state_data = crime_df[crime_df[\"date\"].dt.year == 2016].groupby(\"state\")[\"crimes\"].sum().reset_index()\n",
    "state_data = state_data.sort_values(\"crimes\", ascending=False)"
   ]
  },
  {
   "cell_type": "code",
   "execution_count": 23,
   "metadata": {},
   "outputs": [],
   "source": [
    "plt.figure(figsize=(12, 6))\n",
    "sns.barplot(x=\"state\", y=\"crimes\", data=state_data)\n",
    "plt.title(\"Crime Distribution by State (2016)\")\n",
    "plt.xlabel(\"State\")\n",
    "plt.ylabel(\"Number of Crimes\")\n",
    "plt.xticks(rotation=45)\n",
    "plt.tight_layout()\n",
    "plt.savefig(\"state_distribution.png\")\n",
    "plt.close()"
   ]
  },
  {
   "cell_type": "markdown",
   "metadata": {},
   "source": [
    "Analyze crime categories"
   ]
  },
  {
   "cell_type": "code",
   "execution_count": 25,
   "metadata": {},
   "outputs": [],
   "source": [
    "category_data = crime_df.groupby(\"category\")[\"crimes\"].sum().reset_index()\n",
    "category_data = category_data.sort_values(\"crimes\", ascending=False)\n",
    "\n",
    "plt.figure(figsize=(10, 6))\n",
    "sns.barplot(x=\"category\", y=\"crimes\", data=category_data)\n",
    "plt.title(\"Crime Distribution by Category\")\n",
    "plt.xlabel(\"Category\")\n",
    "plt.ylabel(\"Number of Crimes\")\n",
    "plt.tight_layout()\n",
    "plt.savefig(\"category_distribution.png\")\n",
    "plt.close()"
   ]
  },
  {
   "cell_type": "markdown",
   "metadata": {},
   "source": [
    "Calculate year-over-year change in assault crimes"
   ]
  },
  {
   "cell_type": "code",
   "execution_count": 27,
   "metadata": {},
   "outputs": [],
   "source": [
    "assault_trend = assault_trend.sort_values(\"date\")\n",
    "assault_trend[\"pct_change\"] = assault_trend[\"crimes\"].pct_change() * 100"
   ]
  },
  {
   "cell_type": "code",
   "execution_count": 28,
   "metadata": {},
   "outputs": [
    {
     "name": "stdout",
     "output_type": "stream",
     "text": [
      "\n",
      "Year-over-Year Change in Assault Crimes:\n",
      "   year  crimes  pct_change\n",
      "0  2016   22327         NaN\n",
      "1  2017   21366   -4.304206\n",
      "2  2018   16902  -20.893008\n",
      "3  2019   16489   -2.443498\n",
      "4  2020   13279  -19.467524\n",
      "5  2021   11495  -13.434747\n",
      "6  2022   10348   -9.978251\n",
      "7  2023   10453    1.014689\n"
     ]
    }
   ],
   "source": [
    "print(\"\\nYear-over-Year Change in Assault Crimes:\")\n",
    "print(assault_trend[[\"year\", \"crimes\", \"pct_change\"]])"
   ]
  },
  {
   "cell_type": "code",
   "execution_count": 30,
   "metadata": {},
   "outputs": [],
   "source": [
    "pivot_data = crime_df.pivot_table(\n",
    "    index=\"state\", columns=\"category\", values=\"crimes\", aggfunc=\"sum\"\n",
    ")\n",
    "\n",
    "plt.figure(figsize=(12, 8))\n",
    "sns.heatmap(pivot_data, annot=True, cmap=\"YlOrRd\", fmt=\".0f\")\n",
    "plt.title(\"Crime Categories by State\")\n",
    "plt.tight_layout()\n",
    "plt.savefig(\"category_state_heatmap.png\")\n",
    "plt.close()"
   ]
  },
  {
   "cell_type": "code",
   "execution_count": 32,
   "metadata": {},
   "outputs": [],
   "source": [
    "from statsmodels.tsa.seasonal import seasonal_decompose\n",
    "\n",
    "# Make sure we have enough data points for decomposition\n",
    "if len(assault_trend) >= 4:\n",
    "    assault_time_series = assault_trend.set_index(\"date\")[\"crimes\"]\n",
    "    \n",
    "    # Try to decompose if we have enough data points (might need more for proper analysis)\n",
    "    try:\n",
    "        decomposition = seasonal_decompose(assault_time_series, model='additive', period=2)\n",
    "        \n",
    "        plt.figure(figsize=(12, 10))\n",
    "        plt.subplot(411)\n",
    "        plt.plot(assault_time_series, label='Original')\n",
    "        plt.legend(loc='best')\n",
    "        plt.subplot(412)\n",
    "        plt.plot(decomposition.trend, label='Trend')\n",
    "        plt.legend(loc='best')\n",
    "        plt.subplot(413)\n",
    "        plt.plot(decomposition.seasonal, label='Seasonality')\n",
    "        plt.legend(loc='best')\n",
    "        plt.subplot(414)\n",
    "        plt.plot(decomposition.resid, label='Residuals')\n",
    "        plt.legend(loc='best')\n",
    "        plt.tight_layout()\n",
    "        plt.savefig(\"time_series_decomposition.png\")\n",
    "        plt.close()\n",
    "    except Exception as e:\n",
    "        print(f\"Could not perform time series decomposition: {e}\")\n",
    "\n",
    "# Step 10: Correlation analysis\n",
    "# Create a correlation matrix for crime categories\n",
    "correlation_matrix = crime_df.pivot_table(\n",
    "    index=[\"state\", \"date\"], columns=\"category\", values=\"crimes\", aggfunc=\"sum\"\n",
    ").corr()\n",
    "\n",
    "plt.figure(figsize=(10, 8))\n",
    "sns.heatmap(correlation_matrix, annot=True, cmap=\"coolwarm\", vmin=-1, vmax=1)\n",
    "plt.title(\"Correlation between Crime Categories\")\n",
    "plt.tight_layout()\n",
    "plt.savefig(\"correlation_matrix.png\")\n",
    "plt.close()"
   ]
  },
  {
   "cell_type": "markdown",
   "metadata": {},
   "source": [
    "Create a comprehensive report with insights"
   ]
  },
  {
   "cell_type": "code",
   "execution_count": 34,
   "metadata": {},
   "outputs": [
    {
     "name": "stdout",
     "output_type": "stream",
     "text": [
      "\n",
      "===== COMPREHENSIVE CRIME ANALYSIS REPORT =====\n",
      "\n",
      "1. Overall Trend Analysis:\n",
      "   - Total crimes recorded in the dataset: 3633671\n",
      "   - Highest number of assault crimes: 22327 in 2016\n",
      "   - Lowest number of assault crimes: 10348 in 2022\n",
      "   - Percent change from 2016 to 2023: -53.18%\n",
      "\n",
      "2. State Analysis:\n",
      "   - State with highest crime rate: Malaysia with 224710 crimes\n",
      "\n",
      "3. Category Analysis:\n",
      "   - Most common crime category: property with 2897717 crimes\n",
      "\n",
      "4. Recommendations for Further Analysis:\n",
      "   - Investigate socioeconomic factors in high-crime states\n",
      "   - Analyze the impact of COVID-19 on crime rates (note the drop in 2020-2021)\n",
      "   - Study the relationship between property crimes and economic indicators\n",
      "   - Examine the effectiveness of crime prevention measures in states with declining rates\n"
     ]
    }
   ],
   "source": [
    "print(\"\\n===== COMPREHENSIVE CRIME ANALYSIS REPORT =====\")\n",
    "print(\"\\n1. Overall Trend Analysis:\")\n",
    "print(f\"   - Total crimes recorded in the dataset: {crime_df['crimes'].sum()}\")\n",
    "print(f\"   - Highest number of assault crimes: {assault_trend['crimes'].max()} in {assault_trend.loc[assault_trend['crimes'].idxmax(), 'year']}\")\n",
    "print(f\"   - Lowest number of assault crimes: {assault_trend['crimes'].min()} in {assault_trend.loc[assault_trend['crimes'].idxmin(), 'year']}\")\n",
    "\n",
    "# Calculate the percent decrease from 2016 to 2023\n",
    "if 2016 in assault_trend[\"year\"].values and 2023 in assault_trend[\"year\"].values:\n",
    "    crimes_2016 = assault_trend[assault_trend[\"year\"] == 2016][\"crimes\"].values[0]\n",
    "    crimes_2023 = assault_trend[assault_trend[\"year\"] == 2023][\"crimes\"].values[0]\n",
    "    percent_change = ((crimes_2023 - crimes_2016) / crimes_2016) * 100\n",
    "    print(f\"   - Percent change from 2016 to 2023: {percent_change:.2f}%\")\n",
    "\n",
    "print(\"\\n2. State Analysis:\")\n",
    "if not state_data.empty:\n",
    "    top_state = state_data.iloc[0][\"state\"]\n",
    "    top_state_crimes = state_data.iloc[0][\"crimes\"]\n",
    "    print(f\"   - State with highest crime rate: {top_state} with {top_state_crimes} crimes\")\n",
    "\n",
    "print(\"\\n3. Category Analysis:\")\n",
    "if not category_data.empty:\n",
    "    top_category = category_data.iloc[0][\"category\"]\n",
    "    top_category_crimes = category_data.iloc[0][\"crimes\"]\n",
    "    print(f\"   - Most common crime category: {top_category} with {top_category_crimes} crimes\")\n",
    "\n",
    "print(\"\\n4. Recommendations for Further Analysis:\")\n",
    "print(\"   - Investigate socioeconomic factors in high-crime states\")\n",
    "print(\"   - Analyze the impact of COVID-19 on crime rates (note the drop in 2020-2021)\")\n",
    "print(\"   - Study the relationship between property crimes and economic indicators\")\n",
    "print(\"   - Examine the effectiveness of crime prevention measures in states with declining rates\")"
   ]
  }
 ],
 "metadata": {
  "kernelspec": {
   "display_name": "crime_env",
   "language": "python",
   "name": "python3"
  },
  "language_info": {
   "codemirror_mode": {
    "name": "ipython",
    "version": 3
   },
   "file_extension": ".py",
   "mimetype": "text/x-python",
   "name": "python",
   "nbconvert_exporter": "python",
   "pygments_lexer": "ipython3",
   "version": "3.12.9"
  }
 },
 "nbformat": 4,
 "nbformat_minor": 2
}
